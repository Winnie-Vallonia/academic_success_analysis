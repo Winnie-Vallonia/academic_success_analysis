{
 "cells": [
  {
   "cell_type": "code",
   "execution_count": 124,
   "id": "7d5fac1b-0f70-484f-a2fb-be83661cf155",
   "metadata": {},
   "outputs": [],
   "source": [
    "## importing libraries and datasets"
   ]
  },
  {
   "cell_type": "code",
   "execution_count": 125,
   "id": "b7ad77e3-db50-4bf9-98cc-529a6093750a",
   "metadata": {},
   "outputs": [],
   "source": [
    "import pandas as pd\n",
    "import matplotlib.pyplot as plt\n",
    "import seaborn as sns\n",
    "\n",
    "perf = pd.read_csv('StudentPerformanceFactors.csv')"
   ]
  },
  {
   "cell_type": "code",
   "execution_count": 126,
   "id": "cc33f7ea-4c67-4da4-90d0-d4b1fe00d3cd",
   "metadata": {},
   "outputs": [],
   "source": [
    "## preview"
   ]
  },
  {
   "cell_type": "code",
   "execution_count": 127,
   "id": "940b7df0-0339-47d0-9759-760479830e5f",
   "metadata": {},
   "outputs": [
    {
     "data": {
      "text/html": [
       "<div>\n",
       "<style scoped>\n",
       "    .dataframe tbody tr th:only-of-type {\n",
       "        vertical-align: middle;\n",
       "    }\n",
       "\n",
       "    .dataframe tbody tr th {\n",
       "        vertical-align: top;\n",
       "    }\n",
       "\n",
       "    .dataframe thead th {\n",
       "        text-align: right;\n",
       "    }\n",
       "</style>\n",
       "<table border=\"1\" class=\"dataframe\">\n",
       "  <thead>\n",
       "    <tr style=\"text-align: right;\">\n",
       "      <th></th>\n",
       "      <th>Hours_Studied</th>\n",
       "      <th>Attendance</th>\n",
       "      <th>Parental_Involvement</th>\n",
       "      <th>Access_to_Resources</th>\n",
       "      <th>Extracurricular_Activities</th>\n",
       "      <th>Sleep_Hours</th>\n",
       "      <th>Previous_Scores</th>\n",
       "      <th>Motivation_Level</th>\n",
       "      <th>Internet_Access</th>\n",
       "      <th>Tutoring_Sessions</th>\n",
       "      <th>Family_Income</th>\n",
       "      <th>Teacher_Quality</th>\n",
       "      <th>School_Type</th>\n",
       "      <th>Peer_Influence</th>\n",
       "      <th>Physical_Activity</th>\n",
       "      <th>Learning_Disabilities</th>\n",
       "      <th>Parental_Education_Level</th>\n",
       "      <th>Distance_from_Home</th>\n",
       "      <th>Gender</th>\n",
       "      <th>Exam_Score</th>\n",
       "    </tr>\n",
       "  </thead>\n",
       "  <tbody>\n",
       "    <tr>\n",
       "      <th>0</th>\n",
       "      <td>23</td>\n",
       "      <td>84</td>\n",
       "      <td>Low</td>\n",
       "      <td>High</td>\n",
       "      <td>No</td>\n",
       "      <td>7</td>\n",
       "      <td>73</td>\n",
       "      <td>Low</td>\n",
       "      <td>Yes</td>\n",
       "      <td>0</td>\n",
       "      <td>Low</td>\n",
       "      <td>Medium</td>\n",
       "      <td>Public</td>\n",
       "      <td>Positive</td>\n",
       "      <td>3</td>\n",
       "      <td>No</td>\n",
       "      <td>High School</td>\n",
       "      <td>Near</td>\n",
       "      <td>Male</td>\n",
       "      <td>67</td>\n",
       "    </tr>\n",
       "    <tr>\n",
       "      <th>1</th>\n",
       "      <td>19</td>\n",
       "      <td>64</td>\n",
       "      <td>Low</td>\n",
       "      <td>Medium</td>\n",
       "      <td>No</td>\n",
       "      <td>8</td>\n",
       "      <td>59</td>\n",
       "      <td>Low</td>\n",
       "      <td>Yes</td>\n",
       "      <td>2</td>\n",
       "      <td>Medium</td>\n",
       "      <td>Medium</td>\n",
       "      <td>Public</td>\n",
       "      <td>Negative</td>\n",
       "      <td>4</td>\n",
       "      <td>No</td>\n",
       "      <td>College</td>\n",
       "      <td>Moderate</td>\n",
       "      <td>Female</td>\n",
       "      <td>61</td>\n",
       "    </tr>\n",
       "    <tr>\n",
       "      <th>2</th>\n",
       "      <td>24</td>\n",
       "      <td>98</td>\n",
       "      <td>Medium</td>\n",
       "      <td>Medium</td>\n",
       "      <td>Yes</td>\n",
       "      <td>7</td>\n",
       "      <td>91</td>\n",
       "      <td>Medium</td>\n",
       "      <td>Yes</td>\n",
       "      <td>2</td>\n",
       "      <td>Medium</td>\n",
       "      <td>Medium</td>\n",
       "      <td>Public</td>\n",
       "      <td>Neutral</td>\n",
       "      <td>4</td>\n",
       "      <td>No</td>\n",
       "      <td>Postgraduate</td>\n",
       "      <td>Near</td>\n",
       "      <td>Male</td>\n",
       "      <td>74</td>\n",
       "    </tr>\n",
       "    <tr>\n",
       "      <th>3</th>\n",
       "      <td>29</td>\n",
       "      <td>89</td>\n",
       "      <td>Low</td>\n",
       "      <td>Medium</td>\n",
       "      <td>Yes</td>\n",
       "      <td>8</td>\n",
       "      <td>98</td>\n",
       "      <td>Medium</td>\n",
       "      <td>Yes</td>\n",
       "      <td>1</td>\n",
       "      <td>Medium</td>\n",
       "      <td>Medium</td>\n",
       "      <td>Public</td>\n",
       "      <td>Negative</td>\n",
       "      <td>4</td>\n",
       "      <td>No</td>\n",
       "      <td>High School</td>\n",
       "      <td>Moderate</td>\n",
       "      <td>Male</td>\n",
       "      <td>71</td>\n",
       "    </tr>\n",
       "    <tr>\n",
       "      <th>4</th>\n",
       "      <td>19</td>\n",
       "      <td>92</td>\n",
       "      <td>Medium</td>\n",
       "      <td>Medium</td>\n",
       "      <td>Yes</td>\n",
       "      <td>6</td>\n",
       "      <td>65</td>\n",
       "      <td>Medium</td>\n",
       "      <td>Yes</td>\n",
       "      <td>3</td>\n",
       "      <td>Medium</td>\n",
       "      <td>High</td>\n",
       "      <td>Public</td>\n",
       "      <td>Neutral</td>\n",
       "      <td>4</td>\n",
       "      <td>No</td>\n",
       "      <td>College</td>\n",
       "      <td>Near</td>\n",
       "      <td>Female</td>\n",
       "      <td>70</td>\n",
       "    </tr>\n",
       "  </tbody>\n",
       "</table>\n",
       "</div>"
      ],
      "text/plain": [
       "   Hours_Studied  Attendance Parental_Involvement Access_to_Resources  \\\n",
       "0             23          84                  Low                High   \n",
       "1             19          64                  Low              Medium   \n",
       "2             24          98               Medium              Medium   \n",
       "3             29          89                  Low              Medium   \n",
       "4             19          92               Medium              Medium   \n",
       "\n",
       "  Extracurricular_Activities  Sleep_Hours  Previous_Scores Motivation_Level  \\\n",
       "0                         No            7               73              Low   \n",
       "1                         No            8               59              Low   \n",
       "2                        Yes            7               91           Medium   \n",
       "3                        Yes            8               98           Medium   \n",
       "4                        Yes            6               65           Medium   \n",
       "\n",
       "  Internet_Access  Tutoring_Sessions Family_Income Teacher_Quality  \\\n",
       "0             Yes                  0           Low          Medium   \n",
       "1             Yes                  2        Medium          Medium   \n",
       "2             Yes                  2        Medium          Medium   \n",
       "3             Yes                  1        Medium          Medium   \n",
       "4             Yes                  3        Medium            High   \n",
       "\n",
       "  School_Type Peer_Influence  Physical_Activity Learning_Disabilities  \\\n",
       "0      Public       Positive                  3                    No   \n",
       "1      Public       Negative                  4                    No   \n",
       "2      Public        Neutral                  4                    No   \n",
       "3      Public       Negative                  4                    No   \n",
       "4      Public        Neutral                  4                    No   \n",
       "\n",
       "  Parental_Education_Level Distance_from_Home  Gender  Exam_Score  \n",
       "0              High School               Near    Male          67  \n",
       "1                  College           Moderate  Female          61  \n",
       "2             Postgraduate               Near    Male          74  \n",
       "3              High School           Moderate    Male          71  \n",
       "4                  College               Near  Female          70  "
      ]
     },
     "execution_count": 127,
     "metadata": {},
     "output_type": "execute_result"
    }
   ],
   "source": [
    "perf.head()"
   ]
  },
  {
   "cell_type": "code",
   "execution_count": 128,
   "id": "f1b70662-8523-4c8d-8a43-d1199ad1e5bd",
   "metadata": {},
   "outputs": [
    {
     "name": "stdout",
     "output_type": "stream",
     "text": [
      "<class 'pandas.core.frame.DataFrame'>\n",
      "RangeIndex: 6607 entries, 0 to 6606\n",
      "Data columns (total 20 columns):\n",
      " #   Column                      Non-Null Count  Dtype \n",
      "---  ------                      --------------  ----- \n",
      " 0   Hours_Studied               6607 non-null   int64 \n",
      " 1   Attendance                  6607 non-null   int64 \n",
      " 2   Parental_Involvement        6607 non-null   object\n",
      " 3   Access_to_Resources         6607 non-null   object\n",
      " 4   Extracurricular_Activities  6607 non-null   object\n",
      " 5   Sleep_Hours                 6607 non-null   int64 \n",
      " 6   Previous_Scores             6607 non-null   int64 \n",
      " 7   Motivation_Level            6607 non-null   object\n",
      " 8   Internet_Access             6607 non-null   object\n",
      " 9   Tutoring_Sessions           6607 non-null   int64 \n",
      " 10  Family_Income               6607 non-null   object\n",
      " 11  Teacher_Quality             6529 non-null   object\n",
      " 12  School_Type                 6607 non-null   object\n",
      " 13  Peer_Influence              6607 non-null   object\n",
      " 14  Physical_Activity           6607 non-null   int64 \n",
      " 15  Learning_Disabilities       6607 non-null   object\n",
      " 16  Parental_Education_Level    6517 non-null   object\n",
      " 17  Distance_from_Home          6540 non-null   object\n",
      " 18  Gender                      6607 non-null   object\n",
      " 19  Exam_Score                  6607 non-null   int64 \n",
      "dtypes: int64(7), object(13)\n",
      "memory usage: 1.0+ MB\n"
     ]
    }
   ],
   "source": [
    "perf.info()"
   ]
  },
  {
   "cell_type": "code",
   "execution_count": 129,
   "id": "8d8fd0ba-2d80-4257-a496-f1390b4c5db2",
   "metadata": {},
   "outputs": [],
   "source": [
    "## renaming columns to make them more descriptive"
   ]
  },
  {
   "cell_type": "code",
   "execution_count": 130,
   "id": "74485e7f-bcd7-4695-b1e1-4e02a1de7cd8",
   "metadata": {},
   "outputs": [],
   "source": [
    "mapper_columns = {\"Attendance\":\"Attendance_Percentage\"}\n",
    "\n",
    "perf = perf.rename(\n",
    "    mapper = mapper_columns,\n",
    "    axis = 1\n",
    ")"
   ]
  },
  {
   "cell_type": "code",
   "execution_count": 131,
   "id": "a7653c47-6359-486a-b75e-dca92864d144",
   "metadata": {},
   "outputs": [
    {
     "name": "stdout",
     "output_type": "stream",
     "text": [
      "Hours_Studied                  0\n",
      "Attendance_Percentage          0\n",
      "Parental_Involvement           0\n",
      "Access_to_Resources            0\n",
      "Extracurricular_Activities     0\n",
      "Sleep_Hours                    0\n",
      "Previous_Scores                0\n",
      "Motivation_Level               0\n",
      "Internet_Access                0\n",
      "Tutoring_Sessions              0\n",
      "Family_Income                  0\n",
      "Teacher_Quality               78\n",
      "School_Type                    0\n",
      "Peer_Influence                 0\n",
      "Physical_Activity              0\n",
      "Learning_Disabilities          0\n",
      "Parental_Education_Level      90\n",
      "Distance_from_Home            67\n",
      "Gender                         0\n",
      "Exam_Score                     0\n",
      "dtype: int64\n"
     ]
    }
   ],
   "source": [
    "missing_values_count = perf.isnull().sum()\n",
    "print(missing_values_count)"
   ]
  },
  {
   "cell_type": "code",
   "execution_count": 132,
   "id": "be08b357-28e2-47ae-b091-f11ac175bb12",
   "metadata": {},
   "outputs": [],
   "source": [
    "## Question 1: How does the number of hours studied affect exam scores"
   ]
  },
  {
   "cell_type": "code",
   "execution_count": 133,
   "id": "914a0457-f04f-40e3-a002-05c991a7bba0",
   "metadata": {},
   "outputs": [
    {
     "data": {
      "text/html": [
       "<div>\n",
       "<style scoped>\n",
       "    .dataframe tbody tr th:only-of-type {\n",
       "        vertical-align: middle;\n",
       "    }\n",
       "\n",
       "    .dataframe tbody tr th {\n",
       "        vertical-align: top;\n",
       "    }\n",
       "\n",
       "    .dataframe thead th {\n",
       "        text-align: right;\n",
       "    }\n",
       "</style>\n",
       "<table border=\"1\" class=\"dataframe\">\n",
       "  <thead>\n",
       "    <tr style=\"text-align: right;\">\n",
       "      <th></th>\n",
       "      <th>Hours_Studied</th>\n",
       "      <th>Exam_Score</th>\n",
       "    </tr>\n",
       "  </thead>\n",
       "  <tbody>\n",
       "    <tr>\n",
       "      <th>0</th>\n",
       "      <td>23</td>\n",
       "      <td>67</td>\n",
       "    </tr>\n",
       "    <tr>\n",
       "      <th>1</th>\n",
       "      <td>19</td>\n",
       "      <td>61</td>\n",
       "    </tr>\n",
       "    <tr>\n",
       "      <th>2</th>\n",
       "      <td>24</td>\n",
       "      <td>74</td>\n",
       "    </tr>\n",
       "    <tr>\n",
       "      <th>3</th>\n",
       "      <td>29</td>\n",
       "      <td>71</td>\n",
       "    </tr>\n",
       "    <tr>\n",
       "      <th>4</th>\n",
       "      <td>19</td>\n",
       "      <td>70</td>\n",
       "    </tr>\n",
       "  </tbody>\n",
       "</table>\n",
       "</div>"
      ],
      "text/plain": [
       "   Hours_Studied  Exam_Score\n",
       "0             23          67\n",
       "1             19          61\n",
       "2             24          74\n",
       "3             29          71\n",
       "4             19          70"
      ]
     },
     "execution_count": 133,
     "metadata": {},
     "output_type": "execute_result"
    }
   ],
   "source": [
    "hours_v_score = perf[['Hours_Studied','Exam_Score']]\n",
    "\n",
    "hours_v_score.head()"
   ]
  },
  {
   "cell_type": "code",
   "execution_count": 134,
   "id": "80dcec49-717f-4dc0-b290-0ed82cbbbda4",
   "metadata": {},
   "outputs": [],
   "source": [
    "## identifying outliers"
   ]
  },
  {
   "cell_type": "code",
   "execution_count": 135,
   "id": "02423aa3-dac4-42fa-b514-2821a1b90a5c",
   "metadata": {},
   "outputs": [
    {
     "data": {
      "text/html": [
       "<div>\n",
       "<style scoped>\n",
       "    .dataframe tbody tr th:only-of-type {\n",
       "        vertical-align: middle;\n",
       "    }\n",
       "\n",
       "    .dataframe tbody tr th {\n",
       "        vertical-align: top;\n",
       "    }\n",
       "\n",
       "    .dataframe thead th {\n",
       "        text-align: right;\n",
       "    }\n",
       "</style>\n",
       "<table border=\"1\" class=\"dataframe\">\n",
       "  <thead>\n",
       "    <tr style=\"text-align: right;\">\n",
       "      <th></th>\n",
       "      <th>Hours_Studied</th>\n",
       "      <th>Exam_Score</th>\n",
       "    </tr>\n",
       "  </thead>\n",
       "  <tbody>\n",
       "    <tr>\n",
       "      <th>0</th>\n",
       "      <td>23</td>\n",
       "      <td>67</td>\n",
       "    </tr>\n",
       "    <tr>\n",
       "      <th>1</th>\n",
       "      <td>19</td>\n",
       "      <td>61</td>\n",
       "    </tr>\n",
       "    <tr>\n",
       "      <th>2</th>\n",
       "      <td>24</td>\n",
       "      <td>74</td>\n",
       "    </tr>\n",
       "    <tr>\n",
       "      <th>3</th>\n",
       "      <td>29</td>\n",
       "      <td>71</td>\n",
       "    </tr>\n",
       "    <tr>\n",
       "      <th>4</th>\n",
       "      <td>19</td>\n",
       "      <td>70</td>\n",
       "    </tr>\n",
       "  </tbody>\n",
       "</table>\n",
       "</div>"
      ],
      "text/plain": [
       "   Hours_Studied  Exam_Score\n",
       "0             23          67\n",
       "1             19          61\n",
       "2             24          74\n",
       "3             29          71\n",
       "4             19          70"
      ]
     },
     "execution_count": 135,
     "metadata": {},
     "output_type": "execute_result"
    }
   ],
   "source": [
    "# IQR method for outliers\n",
    "Q1 = hours_v_score[['Hours_Studied', 'Exam_Score']].quantile(0.25)\n",
    "Q3 = hours_v_score[['Hours_Studied', 'Exam_Score']].quantile(0.75)\n",
    "IQR = Q3 - Q1\n",
    "\n",
    "# Outlier bounds\n",
    "lower_bound = Q1 - 1.5 * IQR\n",
    "upper_bound = Q3 + 1.5 * IQR\n",
    "\n",
    "# Filtering out outliers\n",
    "hours_v_score = hours_v_score[(hours_v_score['Hours_Studied'] >= lower_bound['Hours_Studied']) & \n",
    "                               (hours_v_score['Hours_Studied'] <= upper_bound['Hours_Studied']) & \n",
    "                               (hours_v_score['Exam_Score'] >= lower_bound['Exam_Score']) & \n",
    "                               (hours_v_score['Exam_Score'] <= upper_bound['Exam_Score'])]\n",
    "\n",
    "hours_v_score.head()\n"
   ]
  },
  {
   "cell_type": "code",
   "execution_count": 136,
   "id": "d4ac0ff6-e91b-4bca-bcb7-0f7248f0fc72",
   "metadata": {},
   "outputs": [
    {
     "data": {
      "image/png": "[encoded data removed]",
      "text/plain": [
       "<Figure size 1000x500 with 1 Axes>"
      ]
     },
     "metadata": {},
     "output_type": "display_data"
    }
   ],
   "source": [
    "# Box plot for Hours_Studied and Exam_Score\n",
    "\n",
    "plt.figure(figsize=(10, 5))\n",
    "hours_v_score[['Hours_Studied', 'Exam_Score']].boxplot()\n",
    "plt.title('Box Plot for Hours Studied and Exam Score')\n",
    "plt.ylabel('Values')\n",
    "plt.show()"
   ]
  },
  {
   "cell_type": "code",
   "execution_count": 137,
   "id": "6fa91f24-2932-4f17-8818-1a6144365af5",
   "metadata": {},
   "outputs": [],
   "source": [
    "## Exploratory Data Analysis (EDA)"
   ]
  },
  {
   "cell_type": "code",
   "execution_count": 138,
   "id": "ab8a5fb0-7c93-450b-a641-399229fa96a5",
   "metadata": {},
   "outputs": [
    {
     "data": {
      "text/html": [
       "<div>\n",
       "<style scoped>\n",
       "    .dataframe tbody tr th:only-of-type {\n",
       "        vertical-align: middle;\n",
       "    }\n",
       "\n",
       "    .dataframe tbody tr th {\n",
       "        vertical-align: top;\n",
       "    }\n",
       "\n",
       "    .dataframe thead th {\n",
       "        text-align: right;\n",
       "    }\n",
       "</style>\n",
       "<table border=\"1\" class=\"dataframe\">\n",
       "  <thead>\n",
       "    <tr style=\"text-align: right;\">\n",
       "      <th></th>\n",
       "      <th>Hours_Studied</th>\n",
       "      <th>Exam_Score</th>\n",
       "    </tr>\n",
       "  </thead>\n",
       "  <tbody>\n",
       "    <tr>\n",
       "      <th>count</th>\n",
       "      <td>6473.000000</td>\n",
       "      <td>6473.000000</td>\n",
       "    </tr>\n",
       "    <tr>\n",
       "      <th>mean</th>\n",
       "      <td>19.972192</td>\n",
       "      <td>67.064576</td>\n",
       "    </tr>\n",
       "    <tr>\n",
       "      <th>std</th>\n",
       "      <td>5.778634</td>\n",
       "      <td>3.237389</td>\n",
       "    </tr>\n",
       "    <tr>\n",
       "      <th>min</th>\n",
       "      <td>4.000000</td>\n",
       "      <td>59.000000</td>\n",
       "    </tr>\n",
       "    <tr>\n",
       "      <th>25%</th>\n",
       "      <td>16.000000</td>\n",
       "      <td>65.000000</td>\n",
       "    </tr>\n",
       "    <tr>\n",
       "      <th>50%</th>\n",
       "      <td>20.000000</td>\n",
       "      <td>67.000000</td>\n",
       "    </tr>\n",
       "    <tr>\n",
       "      <th>75%</th>\n",
       "      <td>24.000000</td>\n",
       "      <td>69.000000</td>\n",
       "    </tr>\n",
       "    <tr>\n",
       "      <th>max</th>\n",
       "      <td>36.000000</td>\n",
       "      <td>75.000000</td>\n",
       "    </tr>\n",
       "  </tbody>\n",
       "</table>\n",
       "</div>"
      ],
      "text/plain": [
       "       Hours_Studied   Exam_Score\n",
       "count    6473.000000  6473.000000\n",
       "mean       19.972192    67.064576\n",
       "std         5.778634     3.237389\n",
       "min         4.000000    59.000000\n",
       "25%        16.000000    65.000000\n",
       "50%        20.000000    67.000000\n",
       "75%        24.000000    69.000000\n",
       "max        36.000000    75.000000"
      ]
     },
     "execution_count": 138,
     "metadata": {},
     "output_type": "execute_result"
    }
   ],
   "source": [
    "hours_v_score.describe()"
   ]
  },
  {
   "cell_type": "code",
   "execution_count": 139,
   "id": "9678110f-701c-4a0c-9484-aa100b0799bb",
   "metadata": {},
   "outputs": [],
   "source": [
    "## visualization"
   ]
  },
  {
   "cell_type": "code",
   "execution_count": 140,
   "id": "0f5b99cd-f613-476f-bb8a-2681a73036c5",
   "metadata": {},
   "outputs": [
    {
     "data": {
      "image/png": "[encoded data removed]",
      "text/plain": [
       "<Figure size 1000x600 with 1 Axes>"
      ]
     },
     "metadata": {},
     "output_type": "display_data"
    }
   ],
   "source": [
    "plt.figure(figsize=(10, 6))\n",
    "sns.regplot(data=hours_v_score, x='Hours_Studied', y='Exam_Score', scatter_kws={'alpha':0.5})\n",
    "plt.title('Scatter Plot of Hours Studied vs Exam Score')\n",
    "plt.xlabel('Hours Studied')\n",
    "plt.ylabel('Exam Score')\n",
    "plt.show()"
   ]
  },
  {
   "cell_type": "code",
   "execution_count": 141,
   "id": "b897e3d3-8edf-4775-b985-62788dd24c31",
   "metadata": {},
   "outputs": [],
   "source": [
    "## Statistical Analysis"
   ]
  },
  {
   "cell_type": "code",
   "execution_count": 142,
   "id": "c7a159df-0126-4150-a95d-132cfed16dc0",
   "metadata": {},
   "outputs": [
    {
     "name": "stdout",
     "output_type": "stream",
     "text": [
      "Pearson correlation coefficient: 0.49499116907699725\n"
     ]
    }
   ],
   "source": [
    "correlation = hours_v_score['Hours_Studied'].corr(hours_v_score['Exam_Score'])\n",
    "print(f'Pearson correlation coefficient: {correlation}')\n"
   ]
  },
  {
   "cell_type": "markdown",
   "id": "ed2d9b9e-ef34-4737-8de2-86239dfbde7d",
   "metadata": {},
   "source": [
    "## Conclusion to Question 1\n",
    "\n",
    "Increased study hours are associated with moderately higher exam scores, as indicated by the positive correlation. However, since the correlation is not extremely high (close to 1), study hours alone do not fully explain exam performance. Other factors like quality of study, access to resources, and prior knowledge may also play roles."
   ]
  },
  {
   "cell_type": "code",
   "execution_count": null,
   "id": "10a6f694-03a6-4346-9084-3a48740b0496",
   "metadata": {},
   "outputs": [],
   "source": []
  }
 ],
 "metadata": {
  "kernelspec": {
   "display_name": "Python 3 (ipykernel)",
   "language": "python",
   "name": "python3"
  },
  "language_info": {
   "codemirror_mode": {
    "name": "ipython",
    "version": 3
   },
   "file_extension": ".py",
   "mimetype": "text/x-python",
   "name": "python",
   "nbconvert_exporter": "python",
   "pygments_lexer": "ipython3",
   "version": "3.12.4"
  }
 },
 "nbformat": 4,
 "nbformat_minor": 5
}
